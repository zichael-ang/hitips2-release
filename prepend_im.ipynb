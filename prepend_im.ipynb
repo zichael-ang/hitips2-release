{
 "cells": [
  {
   "cell_type": "markdown",
   "metadata": {},
   "source": [
    "Usage: When bursts aren't caught properly or IDL pauses, replace first frame of the problematic image with a better starting frame"
   ]
  },
  {
   "cell_type": "code",
   "execution_count": null,
   "metadata": {},
   "outputs": [],
   "source": [
    "from pathlib import Path\n",
    "import numpy as np\n",
    "import tifffile as tif\n",
    "def prepend_timelapse(img_t, t):\n",
    "    start_frame = img_t[t,...]\n",
    "    return np.concatenate([start_frame[np.newaxis, ...], img_t])"
   ]
  },
  {
   "cell_type": "code",
   "execution_count": null,
   "metadata": {},
   "outputs": [],
   "source": [
    "# Replace with search path\n",
    "parent_path = Path(\n",
    "    r\"\\\\shares2.dkisilon2.niddk.nih.gov\\DKMIROSHNIKOVALAB\\Lab Notebooks\\Ike\\009-0\\009-0_Control_0001-MaxIP_XY4\\sc_idl\\bursting\")"
   ]
  },
  {
   "cell_type": "code",
   "execution_count": null,
   "metadata": {},
   "outputs": [],
   "source": [
    "# Input name of file, and name of new file (in case you want to duplicate)\n",
    "f_name  = \"037G_unregspot0_t329.tif\"\n",
    "new_name= \"037G_unregspot0_t329.tif\"\n",
    "# Use frame number provided by IDL when it stops on a new burst\n",
    "t =         34\n",
    "\n",
    "img = tif.imread(parent_path.joinpath(f_name))\n",
    "pre_img = prepend_timelapse(img[1:, ...], t-2)\n",
    "tif.imwrite(parent_path.joinpath(parent_path.joinpath(new_name)), pre_img, metadata={'axes':'TYX'})"
   ]
  }
 ],
 "metadata": {
  "kernelspec": {
   "display_name": "hitips2",
   "language": "python",
   "name": "python3"
  },
  "language_info": {
   "codemirror_mode": {
    "name": "ipython",
    "version": 3
   },
   "file_extension": ".py",
   "mimetype": "text/x-python",
   "name": "python",
   "nbconvert_exporter": "python",
   "pygments_lexer": "ipython3",
   "version": "3.11.9"
  }
 },
 "nbformat": 4,
 "nbformat_minor": 2
}
