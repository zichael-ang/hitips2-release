{
 "cells": [
  {
   "cell_type": "code",
   "execution_count": 1,
   "metadata": {},
   "outputs": [],
   "source": [
    "%load_ext autoreload"
   ]
  },
  {
   "cell_type": "code",
   "execution_count": 12,
   "metadata": {},
   "outputs": [
    {
     "name": "stderr",
     "output_type": "stream",
     "text": [
      "c:\\Users\\Imageanalysis\\anaconda3\\envs\\hitips2\\Lib\\site-packages\\cellpose\\resnet_torch.py:276: FutureWarning: You are using `torch.load` with `weights_only=False` (the current default value), which uses the default pickle module implicitly. It is possible to construct malicious pickle data which will execute arbitrary code during unpickling (See https://github.com/pytorch/pytorch/blob/main/SECURITY.md#untrusted-models for more details). In a future release, the default value for `weights_only` will be flipped to `True`. This limits the functions that could be executed during unpickling. Arbitrary objects will no longer be allowed to be loaded via this mode unless they are explicitly allowlisted by the user via `torch.serialization.add_safe_globals`. We recommend you start setting `weights_only=True` for any use case where you don't have full control of the loaded file. Please open an issue on GitHub for any issues related to this experimental feature.\n",
      "  state_dict = torch.load(filename, map_location=device)\n"
     ]
    }
   ],
   "source": [
    "%autoreload 1\n",
    "from pathlib import Path\n",
    "from pipelines.idl_preprocess import IDL_PREPROCESS, Compose\n",
    "from pipelines.default_pipelines import CROP_TIME \n",
    "pl = IDL_PREPROCESS()"
   ]
  },
  {
   "cell_type": "code",
   "execution_count": 13,
   "metadata": {},
   "outputs": [
    {
     "name": "stdout",
     "output_type": "stream",
     "text": [
      "[WindowsPath('Y:/Lab Notebooks/Ike/Kate Data/dragonfly_ctrl0/controlDragonfly_F0tiff.tif'), WindowsPath('Y:/Lab Notebooks/Ike/Kate Data/dragonfly_ctrl0/controlDragonfly_F1tiff.tif'), WindowsPath('Y:/Lab Notebooks/Ike/Kate Data/dragonfly_ctrl0/controlDragonfly_F2tiff.tif'), WindowsPath('Y:/Lab Notebooks/Ike/Kate Data/dragonfly_ctrl0/controlDragonfly_F3tiff.tif')]\n",
      "[WindowsPath('Y:/Lab Notebooks/Ike/Kate Data/dragonfly_ctrl0/controlDragonfly_F0tiff'), WindowsPath('Y:/Lab Notebooks/Ike/Kate Data/dragonfly_ctrl0/controlDragonfly_F1tiff'), WindowsPath('Y:/Lab Notebooks/Ike/Kate Data/dragonfly_ctrl0/controlDragonfly_F2tiff'), WindowsPath('Y:/Lab Notebooks/Ike/Kate Data/dragonfly_ctrl0/controlDragonfly_F3tiff')]\n"
     ]
    }
   ],
   "source": [
    "exp_list = [r\"Y:\\Lab Notebooks\\Ike\\Kate Data\\dragonfly_ctrl0\",\n",
    "            ] # for processing multiple experiments at once\n",
    "fpath_list = [sorted(Path(exp_path).glob(\"*.tif\")) for exp_path in exp_list] # search exp_path folders for ome tifs \n",
    "fpath_list = [x for p_list in fpath_list for x in p_list]\n",
    "out_paths = [fpath.parent.joinpath(Path(fpath.stem).stem) for fpath in fpath_list]\n",
    "\n",
    "print(fpath_list)\n",
    "print(out_paths)"
   ]
  },
  {
   "cell_type": "code",
   "execution_count": 14,
   "metadata": {},
   "outputs": [],
   "source": [
    "pl.preprocess.append(CROP_TIME(211, 470))"
   ]
  },
  {
   "cell_type": "code",
   "execution_count": null,
   "metadata": {},
   "outputs": [],
   "source": [
    "# Run to test segmentation parameters and check for missing frames\n",
    "pl.load_image(fpath_list[0])\n",
    "pl.test(diameters=[40, 55, 65, 75, 100])\n"
   ]
  },
  {
   "cell_type": "code",
   "execution_count": null,
   "metadata": {},
   "outputs": [],
   "source": [
    "pl.segment.set_args(diameter=55) # set parameter you are satisfied with"
   ]
  },
  {
   "cell_type": "code",
   "execution_count": null,
   "metadata": {},
   "outputs": [
    {
     "name": "stdout",
     "output_type": "stream",
     "text": [
      "reading\n",
      "preprocessing whole FOV\n",
      "segmenting image\n",
      "isolating nuclei\n"
     ]
    },
    {
     "name": "stderr",
     "output_type": "stream",
     "text": [
      "[INFO][2025/03/31 05:42:43 PM] Localizing objects from segmentation...\n",
      "progress: 100%|██████████| 577/577 [00:43<00:00, 13.42it/s]\n",
      "[INFO][2025/03/31 05:43:26 PM] Objects are of type: <class 'dict'>\n",
      "[INFO][2025/03/31 05:43:27 PM] ...Found 66898 objects in 577 frames.\n",
      "[INFO][2025/03/31 05:43:27 PM] Loaded btrack: C:\\Users\\Imageanalysis\\anaconda3\\envs\\hitips2\\Lib\\site-packages\\btrack\\libs\\libtracker.DLL\n",
      "[INFO][2025/03/31 05:43:27 PM] Starting BayesianTracker session\n",
      "[INFO][2025/03/31 05:43:27 PM] Loading configuration file: default_configs\\tracker_config.json\n",
      "[INFO][2025/03/31 05:43:27 PM] Objects are of type: <class 'list'>\n",
      "[INFO][2025/03/31 05:43:27 PM] Starting tracking... \n",
      "[INFO][2025/03/31 05:43:27 PM] Update using: ['MOTION']\n",
      "[INFO][2025/03/31 05:43:27 PM] Tracking objects in frames 0 to 99 (of 577)...\n",
      "[INFO][2025/03/31 05:43:27 PM]  - Timing (Bayesian updates: 2.00ms, Linking: 6.00ms)\n",
      "[INFO][2025/03/31 05:43:27 PM]  - Probabilities (Link: 0.99998, Lost: 1.00000)\n",
      "[INFO][2025/03/31 05:43:27 PM]  - Stats (Active: 102, Lost: 321, Conflicts resolved: 27)\n",
      "[INFO][2025/03/31 05:43:27 PM] Tracking objects in frames 100 to 199 (of 577)...\n",
      "[INFO][2025/03/31 05:43:28 PM]  - Timing (Bayesian updates: 8.00ms, Linking: 1.00ms)\n",
      "[INFO][2025/03/31 05:43:28 PM]  - Probabilities (Link: 1.00000, Lost: 1.00000)\n",
      "[INFO][2025/03/31 05:43:28 PM]  - Stats (Active: 129, Lost: 678, Conflicts resolved: 67)\n",
      "[INFO][2025/03/31 05:43:28 PM] Tracking objects in frames 200 to 299 (of 577)...\n",
      "[INFO][2025/03/31 05:43:29 PM]  - Timing (Bayesian updates: 9.00ms, Linking: 1.00ms)\n",
      "[INFO][2025/03/31 05:43:29 PM]  - Probabilities (Link: 0.99997, Lost: 1.00000)\n",
      "[INFO][2025/03/31 05:43:29 PM]  - Stats (Active: 122, Lost: 1010, Conflicts resolved: 95)\n",
      "[INFO][2025/03/31 05:43:29 PM] Tracking objects in frames 300 to 399 (of 577)...\n",
      "[INFO][2025/03/31 05:43:30 PM]  - Timing (Bayesian updates: 17.00ms, Linking: 0.00ms)\n",
      "[INFO][2025/03/31 05:43:30 PM]  - Probabilities (Link: 1.00000, Lost: 0.81570)\n",
      "[INFO][2025/03/31 05:43:30 PM]  - Stats (Active: 130, Lost: 1306, Conflicts resolved: 128)\n",
      "[INFO][2025/03/31 05:43:30 PM] Tracking objects in frames 400 to 499 (of 577)...\n",
      "[INFO][2025/03/31 05:43:31 PM]  - Timing (Bayesian updates: 15.00ms, Linking: 0.00ms)\n",
      "[INFO][2025/03/31 05:43:31 PM]  - Probabilities (Link: 1.00000, Lost: 1.00000)\n",
      "[INFO][2025/03/31 05:43:31 PM]  - Stats (Active: 122, Lost: 1558, Conflicts resolved: 147)\n",
      "[INFO][2025/03/31 05:43:31 PM] Tracking objects in frames 500 to 577 (of 577)...\n",
      "[INFO][2025/03/31 05:43:32 PM]  - Timing (Bayesian updates: 7.00ms, Linking: 1.00ms)\n",
      "[INFO][2025/03/31 05:43:32 PM]  - Probabilities (Link: 1.00000, Lost: 0.90747)\n",
      "[INFO][2025/03/31 05:43:32 PM] SUCCESS.\n",
      "[INFO][2025/03/31 05:43:32 PM]  - Found 1050 tracks in 577 frames (in 0.0s)\n",
      "[INFO][2025/03/31 05:43:32 PM]  - Inserted 126 dummy objects to fill tracking gaps\n",
      "[INFO][2025/03/31 05:43:32 PM] Loading hypothesis model: cell_hypothesis\n",
      "[INFO][2025/03/31 05:43:32 PM] Calculating hypotheses (relax: True)...\n",
      "[INFO][2025/03/31 05:43:32 PM] Setting up constraints matrix for global optimisation...\n",
      "[INFO][2025/03/31 05:43:32 PM] Optimizing...\n",
      "[INFO][2025/03/31 05:43:32 PM] Optimization complete. (Solution: optimal)\n",
      "[INFO][2025/03/31 05:43:32 PM]  - Fates.FALSE_POSITIVE: 217 (of 1050)\n",
      "[INFO][2025/03/31 05:43:32 PM]  - Fates.LINK: 316 (of 498)\n",
      "[INFO][2025/03/31 05:43:32 PM]  - Fates.DIVIDE: 32 (of 79)\n",
      "[INFO][2025/03/31 05:43:32 PM]  - Fates.INITIALIZE_BORDER: 245 (of 327)\n",
      "[INFO][2025/03/31 05:43:32 PM]  - Fates.INITIALIZE_FRONT: 95 (of 102)\n",
      "[INFO][2025/03/31 05:43:32 PM]  - Fates.INITIALIZE_LAZY: 113 (of 621)\n",
      "[INFO][2025/03/31 05:43:32 PM]  - Fates.TERMINATE_BORDER: 260 (of 340)\n",
      "[INFO][2025/03/31 05:43:32 PM]  - Fates.TERMINATE_BACK: 111 (of 113)\n",
      "[INFO][2025/03/31 05:43:32 PM]  - Fates.TERMINATE_LAZY: 114 (of 597)\n",
      "[INFO][2025/03/31 05:43:32 PM]  - TOTAL: 3727 hypotheses\n",
      "[INFO][2025/03/31 05:43:32 PM] Completed optimization with 734 tracks\n",
      "[INFO][2025/03/31 05:43:32 PM] Ending BayesianTracker session\n"
     ]
    },
    {
     "name": "stdout",
     "output_type": "stream",
     "text": [
      "photobleach + registration\n",
      "correcting photobleaching...\n",
      "registering nuclei...\n",
      "post processing for IDL\n",
      "reading\n",
      "preprocessing whole FOV\n",
      "segmenting image\n",
      "segmenting...\n"
     ]
    },
    {
     "name": "stderr",
     "output_type": "stream",
     "text": [
      "100%|██████████| 16/16 [07:29<00:00, 28.08s/it]\n"
     ]
    },
    {
     "name": "stdout",
     "output_type": "stream",
     "text": [
      "writing mask...\n",
      "isolating nuclei\n"
     ]
    },
    {
     "name": "stderr",
     "output_type": "stream",
     "text": [
      "[INFO][2025/03/31 05:54:14 PM] Localizing objects from segmentation...\n",
      "progress: 100%|██████████| 577/577 [00:34<00:00, 16.58it/s]\n",
      "[INFO][2025/03/31 05:54:49 PM] Objects are of type: <class 'dict'>\n",
      "[INFO][2025/03/31 05:54:49 PM] ...Found 54245 objects in 577 frames.\n",
      "[INFO][2025/03/31 05:54:49 PM] Loaded btrack: C:\\Users\\Imageanalysis\\anaconda3\\envs\\hitips2\\Lib\\site-packages\\btrack\\libs\\libtracker.DLL\n",
      "[INFO][2025/03/31 05:54:49 PM] Starting BayesianTracker session\n",
      "[INFO][2025/03/31 05:54:49 PM] Loading configuration file: default_configs\\tracker_config.json\n",
      "[INFO][2025/03/31 05:54:49 PM] Objects are of type: <class 'list'>\n",
      "[INFO][2025/03/31 05:54:50 PM] Starting tracking... \n",
      "[INFO][2025/03/31 05:54:50 PM] Update using: ['MOTION']\n",
      "[INFO][2025/03/31 05:54:50 PM] Tracking objects in frames 0 to 99 (of 577)...\n",
      "[INFO][2025/03/31 05:54:50 PM]  - Timing (Bayesian updates: 9.00ms, Linking: 1.00ms)\n",
      "[INFO][2025/03/31 05:54:50 PM]  - Probabilities (Link: 1.00000, Lost: 0.58679)\n",
      "[INFO][2025/03/31 05:54:50 PM]  - Stats (Active: 106, Lost: 355, Conflicts resolved: 39)\n",
      "[INFO][2025/03/31 05:54:50 PM] Tracking objects in frames 100 to 199 (of 577)...\n",
      "[INFO][2025/03/31 05:54:51 PM]  - Timing (Bayesian updates: 6.00ms, Linking: 0.00ms)\n",
      "[INFO][2025/03/31 05:54:51 PM]  - Probabilities (Link: 1.00000, Lost: 0.39615)\n",
      "[INFO][2025/03/31 05:54:51 PM]  - Stats (Active: 102, Lost: 673, Conflicts resolved: 60)\n",
      "[INFO][2025/03/31 05:54:51 PM] Tracking objects in frames 200 to 299 (of 577)...\n",
      "[INFO][2025/03/31 05:54:51 PM]  - Timing (Bayesian updates: 0.00ms, Linking: 0.00ms)\n",
      "[INFO][2025/03/31 05:54:51 PM]  - Probabilities (Link: 1.00000, Lost: 1.00000)\n",
      "[INFO][2025/03/31 05:54:51 PM]  - Stats (Active: 85, Lost: 936, Conflicts resolved: 76)\n",
      "[INFO][2025/03/31 05:54:51 PM] Tracking objects in frames 300 to 399 (of 577)...\n",
      "[INFO][2025/03/31 05:54:52 PM]  - Timing (Bayesian updates: 3.00ms, Linking: 0.00ms)\n",
      "[INFO][2025/03/31 05:54:52 PM]  - Probabilities (Link: 1.00000, Lost: 0.71350)\n",
      "[INFO][2025/03/31 05:54:52 PM]  - Stats (Active: 93, Lost: 1130, Conflicts resolved: 87)\n",
      "[INFO][2025/03/31 05:54:52 PM] Tracking objects in frames 400 to 499 (of 577)...\n",
      "[INFO][2025/03/31 05:54:52 PM]  - Timing (Bayesian updates: 4.00ms, Linking: 1.00ms)\n",
      "[INFO][2025/03/31 05:54:52 PM]  - Probabilities (Link: 1.00000, Lost: 1.00000)\n",
      "[INFO][2025/03/31 05:54:52 PM]  - Stats (Active: 91, Lost: 1261, Conflicts resolved: 93)\n",
      "[INFO][2025/03/31 05:54:52 PM] Tracking objects in frames 500 to 577 (of 577)...\n",
      "[INFO][2025/03/31 05:54:53 PM]  - Timing (Bayesian updates: 4.00ms, Linking: 0.00ms)\n",
      "[INFO][2025/03/31 05:54:53 PM]  - Probabilities (Link: 1.00000, Lost: 0.99959)\n",
      "[INFO][2025/03/31 05:54:53 PM] SUCCESS.\n",
      "[INFO][2025/03/31 05:54:53 PM]  - Found 939 tracks in 577 frames (in 0.0s)\n",
      "[INFO][2025/03/31 05:54:53 PM]  - Inserted 117 dummy objects to fill tracking gaps\n",
      "[INFO][2025/03/31 05:54:53 PM] Loading hypothesis model: cell_hypothesis\n",
      "[INFO][2025/03/31 05:54:53 PM] Calculating hypotheses (relax: True)...\n",
      "[INFO][2025/03/31 05:54:53 PM] Setting up constraints matrix for global optimisation...\n",
      "[INFO][2025/03/31 05:54:53 PM] Optimizing...\n",
      "[INFO][2025/03/31 05:54:53 PM] Optimization complete. (Solution: optimal)\n",
      "[INFO][2025/03/31 05:54:53 PM]  - Fates.FALSE_POSITIVE: 226 (of 939)\n",
      "[INFO][2025/03/31 05:54:53 PM]  - Fates.LINK: 288 (of 434)\n",
      "[INFO][2025/03/31 05:54:53 PM]  - Fates.DIVIDE: 26 (of 55)\n",
      "[INFO][2025/03/31 05:54:53 PM]  - Fates.INITIALIZE_BORDER: 186 (of 245)\n",
      "[INFO][2025/03/31 05:54:53 PM]  - Fates.INITIALIZE_FRONT: 97 (of 101)\n",
      "[INFO][2025/03/31 05:54:53 PM]  - Fates.INITIALIZE_LAZY: 90 (of 593)\n",
      "[INFO][2025/03/31 05:54:53 PM]  - Fates.TERMINATE_BORDER: 218 (of 278)\n",
      "[INFO][2025/03/31 05:54:53 PM]  - Fates.TERMINATE_BACK: 93 (of 100)\n",
      "[INFO][2025/03/31 05:54:53 PM]  - Fates.TERMINATE_LAZY: 88 (of 561)\n",
      "[INFO][2025/03/31 05:54:53 PM]  - TOTAL: 3306 hypotheses\n",
      "[INFO][2025/03/31 05:54:53 PM] Completed optimization with 651 tracks\n",
      "[INFO][2025/03/31 05:54:53 PM] Ending BayesianTracker session\n"
     ]
    },
    {
     "name": "stdout",
     "output_type": "stream",
     "text": [
      "photobleach + registration\n",
      "correcting photobleaching...\n",
      "registering nuclei...\n",
      "post processing for IDL\n"
     ]
    }
   ],
   "source": [
    "# run when args are set \n",
    "for fpath, outpath in zip(fpath_list, out_paths): \n",
    "\n",
    "    pl.run(fpath, outpath) # May crash due to btrack but no amount of exception handling can fix that"
   ]
  }
 ],
 "metadata": {
  "kernelspec": {
   "display_name": "hitips2",
   "language": "python",
   "name": "python3"
  },
  "language_info": {
   "codemirror_mode": {
    "name": "ipython",
    "version": 3
   },
   "file_extension": ".py",
   "mimetype": "text/x-python",
   "name": "python",
   "nbconvert_exporter": "python",
   "pygments_lexer": "ipython3",
   "version": "3.11.9"
  }
 },
 "nbformat": 4,
 "nbformat_minor": 2
}
